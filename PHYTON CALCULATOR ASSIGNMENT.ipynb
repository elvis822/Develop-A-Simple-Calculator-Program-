{
 "cells": [
  {
   "cell_type": "markdown",
   "id": "9a04dbf3-c648-41ff-ac84-28b7362a51a0",
   "metadata": {},
   "source": [
    "TASK:\n",
    "Project Task Description For this project, you will create a simple calculator program in Python. This project will involve taking input from the user and performing basic arithmetic operations (addition, subtraction, multiplication, and division). This project will enhance your skills in user input, functions, and control structures in Python. Steps to Develop the Program 1. Define the Objective The program should: • Ask the user for two numbers. • Ask the user which operation they want to perform (add, subtract, multiply, or divide). • Perform the operation and return the result. 2. Plan the Program Flow - Get two numbers from the user. - Get the desired operation from the user. - Use conditionals (if-elif-else) to determine the operation. - Return and print the result. - Write the Code Instructions: • The code should be structured with clear comments explaining each part of the process. • Submit both the notebook (.ipynb) file and the .html file to the email address provided. • Include a markdown (.md) file wherein you summarized the entire project stating clearly the objective of the project, how you went about solving the problem, and the final outcome of things. This file should not contain any codes. • Be prepared to defend your project before your instructor"
   ]
  },
  {
   "cell_type": "code",
   "execution_count": null,
   "id": "77fde5a9-97e4-491f-9a77-c446fcf7ec91",
   "metadata": {},
   "outputs": [],
   "source": [
    "# Creating a function for the whole Calculator\n",
    "def calculator():\n",
    "# Code to prompt the user to input the type of operation they want to perform.    \n",
    "    elvis_calculator = input('''\n",
    "Elvis_Calculator asks you to type in the math operation you would like to complete:\n",
    "+ for addition\n",
    "- for subtraction\n",
    "* for multiplication\n",
    "/ for division\n",
    "''')\n",
    "    \n",
    "# Code to collect input from the user for two numbers of their choice and convert them to float for the arithmetic operations \n",
    "    user_number_1 = float(input('Elvis_Calculator asks you to input your First Number: '))\n",
    "    user_number_2 = float(input('Elvis_Calculator asks you to input your Second Number: '))\n",
    "\n",
    "# Conditional statements to check the operation chosen by the user\n",
    "    if elvis_calculator == '+':\n",
    "        # Code to perform addition and print the result.\n",
    "        print('{} + {} = '.format(user_number_1, user_number_2))\n",
    "        print(user_number_1 + user_number_2)\n",
    "\n",
    "    elif elvis_calculator == '-':\n",
    "        # Code to perform subtraction and print the result.\n",
    "        print('{} - {} = '.format(user_number_1, user_number_2))\n",
    "        print(user_number_1 - user_number_2)\n",
    "\n",
    "    elif elvis_calculator == '*':\n",
    "        # Code to perform multiplication and print the result.\n",
    "        print('{} * {} = '.format(user_number_1, user_number_2))\n",
    "        print(user_number_1 * user_number_2)\n",
    "\n",
    "    elif elvis_calculator == '/':\n",
    "        # Code to perform division and print the result.\n",
    "        print('{} / {} = '.format(user_number_1, user_number_2))\n",
    "        print(user_number_1 / user_number_2)\n",
    "\n",
    "    else:\n",
    "        # Code to print an error message if the user enters an invalid operation symbol.\n",
    "        print('Elvis_Calculator reports that you have not typed a valid operator, please run the program again.')\n",
    "\n",
    "# Creating a function to ask the user if they want to perform another calculation\n",
    "    calculate_again()\n",
    "\n",
    "def calculate_again():\n",
    "    # Code asking for user input to decide whether to restat the Calculator or exit.\n",
    "    run_elvis_calculator_again = input('''\n",
    "Do you want to use Elvis_Calculator again?\n",
    "Input YES or NO in the field.\n",
    "''')\n",
    "\n",
    "# Conditional statements to check the users response.\n",
    "    if run_elvis_calculator_again.upper() == 'YES':\n",
    "        # Running the function again if the user says 'Yes'\n",
    "        calculator()\n",
    "    elif run_elvis_calculator_again.upper() == 'NO':\n",
    "        # Code to end the program with a farewell message if the user says 'No'\n",
    "        print('Elvis_Calculator bades you farewell')\n",
    "    else:\n",
    "        # If the user provides an invalid response, this code asks them again.\n",
    "        calculate_again() \n",
    "        \n",
    "calculator()"
   ]
  },
  {
   "cell_type": "code",
   "execution_count": null,
   "id": "144506a3-fd1a-4ef6-bf2f-389395b9b6ac",
   "metadata": {},
   "outputs": [],
   "source": []
  },
  {
   "cell_type": "code",
   "execution_count": null,
   "id": "4d83fa4e-6a42-480d-b232-ccb54d089e0b",
   "metadata": {},
   "outputs": [],
   "source": []
  }
 ],
 "metadata": {
  "kernelspec": {
   "display_name": "Python 3 (ipykernel)",
   "language": "python",
   "name": "python3"
  },
  "language_info": {
   "codemirror_mode": {
    "name": "ipython",
    "version": 3
   },
   "file_extension": ".py",
   "mimetype": "text/x-python",
   "name": "python",
   "nbconvert_exporter": "python",
   "pygments_lexer": "ipython3",
   "version": "3.11.9"
  }
 },
 "nbformat": 4,
 "nbformat_minor": 5
}
